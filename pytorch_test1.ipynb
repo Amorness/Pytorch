{
 "cells": [
  {
   "cell_type": "code",
   "execution_count": 20,
   "metadata": {
    "collapsed": false
   },
   "outputs": [
    {
     "name": "stdout",
     "output_type": "stream",
     "text": [
      "\n [[0 1]\n [2 3]\n [4 5]] \n tensor([[0, 1],\n        [2, 3],\n        [4, 5]]) \n [[0 1]\n [2 3]\n [4 5]]\n"
     ]
    }
   ],
   "source": [
    "import torch\n",
    "import numpy as np\n",
    "np_data = np.arange(6).reshape((3,-1))\n",
    "torch_data = torch.from_numpy(np_data)\n",
    "tensor2array = torch_data.numpy()\n",
    "print(\n",
    "    '\\n',np_data,\n",
    "    '\\n',torch_data,\n",
    "    '\\n',tensor2array\n",
    ")"
   ]
  },
  {
   "cell_type": "code",
   "execution_count": 17,
   "metadata": {},
   "outputs": [
    {
     "name": "stdout",
     "output_type": "stream",
     "text": [
      "tensor([[ 7., 10.],\n        [15., 22.]])\n"
     ]
    }
   ],
   "source": [
    "#矩阵点乘\n",
    "data = [[1,2],[3,4]]\n",
    "tensor = torch.FloatTensor(data)\n",
    "print(\n",
    "    torch.mm(tensor,tensor)\n",
    ")"
   ]
  },
  {
   "cell_type": "code",
   "execution_count": 23,
   "metadata": {},
   "outputs": [
    {
     "name": "stdout",
     "output_type": "stream",
     "text": [
      "tensor([[1., 2.],\n        [3., 4.]])\ntensor([[1., 2.],\n        [3., 4.]], requires_grad=True)\ntensor(7.5000)\ntensor(7.5000, grad_fn=<MeanBackward1>)\n"
     ]
    }
   ],
   "source": [
    "from torch.autograd import Variable\n",
    "tensor_1 = torch.FloatTensor([[1,2],[3,4]]) \n",
    "variable = Variable(tensor,requires_grad = True)\n",
    "print(tensor_1)\n",
    "print(variable)\n",
    "t_out = torch.mean(tensor_1*tensor_1)\n",
    "v_out = torch.mean(variable*variable)\n",
    "print(t_out)\n",
    "print(v_out)"
   ]
  },
  {
   "cell_type": "code",
   "execution_count": 33,
   "metadata": {},
   "outputs": [
    {
     "name": "stdout",
     "output_type": "stream",
     "text": [
      "tensor([[1., 2.],\n        [3., 4.]], requires_grad=True)\ntensor([[1., 2.],\n        [3., 4.]])\n[[1. 2.]\n [3. 4.]]\n"
     ]
    }
   ],
   "source": [
    "#获取variable数据\n",
    "print(variable)\n",
    "#转变为tensor形式\n",
    "print(variable.data)\n",
    "#转变为numpy形式\n",
    "print(variable.data.numpy())"
   ]
  },
  {
   "cell_type": "code",
   "execution_count": null,
   "metadata": {},
   "outputs": [],
   "source": [
    ""
   ]
  },
  {
   "cell_type": "code",
   "execution_count": null,
   "metadata": {},
   "outputs": [],
   "source": []
  },
  {
   "cell_type": "code",
   "execution_count": null,
   "metadata": {},
   "outputs": [],
   "source": []
  }
 ],
 "metadata": {
  "kernelspec": {
   "display_name": "Python 2",
   "language": "python",
   "name": "python2"
  },
  "language_info": {
   "codemirror_mode": {
    "name": "ipython",
    "version": 2
   },
   "file_extension": ".py",
   "mimetype": "text/x-python",
   "name": "python",
   "nbconvert_exporter": "python",
   "pygments_lexer": "ipython2",
   "version": "2.7.6"
  }
 },
 "nbformat": 4,
 "nbformat_minor": 0
}
