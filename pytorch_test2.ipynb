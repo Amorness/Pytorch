{
 "cells": [
  {
   "cell_type": "code",
   "execution_count": 8,
   "metadata": {
    "collapsed": false
   },
   "outputs": [
    {
     "name": "stdout",
     "output_type": "stream",
     "text": [
      "0        0.799492\n1        0.801720\n2        0.802640\n3        0.803833\n4        0.806783\n5        0.806887\n6        0.807283\n7        0.812916\n8        0.756467\n9        0.710928\n10       0.700368\n11       0.699510\n12       0.691339\n13       0.680440\n14       0.674527\n15       0.666034\n16       0.688912\n17       0.711597\n18       0.725780\n19       0.733155\n20       0.743079\n21       0.751023\n22       0.752583\n23       0.758526\n24       0.761703\n25       0.760296\n26       0.764794\n27       0.763474\n28       0.767146\n29       0.769515\n           ...   \n52531    0.680774\n52532    0.667171\n52533    0.664668\n52534    0.702648\n52535    0.728974\n52536    0.750664\n52537    0.769112\n52538    0.780773\n52539    0.789257\n52540    0.799213\n52541    0.797610\n52542    0.803918\n52543    0.802001\n52544    0.805104\n52545    0.808516\n52546    0.806571\n52547    0.816229\n52548    0.820785\n52549    0.822488\n52550    0.833033\n52551    0.842806\n52552    0.850531\n52553    0.819828\n52554    0.737100\n52555    0.700484\n52556    0.680675\n52557    0.664553\n52558    0.651590\n52559    0.632542\n52560    0.604315\nLength: 49600, dtype: float32\n"
     ]
    }
   ],
   "source": [
    "import numpy as np\n",
    "import pandas as pd\n",
    "import matplotlib.pyplot as plt\n",
    "import torch\n",
    "import torch.utils.data as Data\n",
    "import torchvision\n",
    "\n",
    "BATCH_SIZE = 50\n",
    "\n",
    "data_raw = pd.read_csv('./82/rawData/82M101M39M1.csv')\n",
    "data_raw = data_raw.dropna()\n",
    "\n",
    "data_input = data_raw[['GN013','NC005','TR002']]\n",
    "data_input = data_input.astype('float32')\n",
    "data_StdInput = (data_input - data_input.min())/(data_input.max()-data_input.min())\n",
    "data_output = data_raw['GN010']-data_raw['GN011']\n",
    "data_output = data_output.astype('float32')\n",
    "data_StdOutput = (data_output-data_output.min())/(data_output.max()-data_output.min())\n",
    "data_StdOutput2 = data_StdOutput\n",
    "print(data_StdOutput2)"
   ]
  },
  {
   "cell_type": "code",
   "execution_count": null,
   "metadata": {},
   "outputs": [],
   "source": [
    "\n",
    "\n",
    "\n",
    "\n",
    "\n"
   ]
  },
  {
   "cell_type": "code",
   "execution_count": null,
   "metadata": {},
   "outputs": [],
   "source": [
    "\n"
   ]
  },
  {
   "cell_type": "code",
   "execution_count": null,
   "metadata": {},
   "outputs": [],
   "source": [
    "\n"
   ]
  },
  {
   "cell_type": "code",
   "execution_count": null,
   "metadata": {},
   "outputs": [],
   "source": [
    "\n"
   ]
  },
  {
   "cell_type": "code",
   "execution_count": null,
   "metadata": {},
   "outputs": [],
   "source": [
    "\n"
   ]
  },
  {
   "cell_type": "code",
   "execution_count": null,
   "metadata": {},
   "outputs": [],
   "source": []
  }
 ],
 "metadata": {
  "kernelspec": {
   "display_name": "Python 2",
   "language": "python",
   "name": "python2"
  },
  "language_info": {
   "codemirror_mode": {
    "name": "ipython",
    "version": 2
   },
   "file_extension": ".py",
   "mimetype": "text/x-python",
   "name": "python",
   "nbconvert_exporter": "python",
   "pygments_lexer": "ipython2",
   "version": "2.7.6"
  }
 },
 "nbformat": 4,
 "nbformat_minor": 0
}
